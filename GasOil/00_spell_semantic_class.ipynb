{
 "cells": [
  {
   "cell_type": "markdown",
   "metadata": {},
   "source": [
    "## Задание\n",
    "Вам будет предоставлен набор данных о задачах, которые выполнялись в рамках строительства капитальных объектов на месторождениях нефти и газа. Набор содержит информацию о примерно 716 тысячах задач. Для каждой из задач доступна информация о ее названии в строительном плане, а также частично заданная информация об иерархии задач и обобщенных классах наименований, к которым относятся эти задачи (двух разных степеней детализации).\n",
    "\n",
    "Используя эти данные, вам необходимо будет разработать семантическую модель, которая позволяла бы эффективно определять обобщенные классы для задач, у которых эта информация не представлена.\n",
    "\n",
    "### Каждая задача описывается следующими атрибутами.\n",
    "- work_name \n",
    "    * Текстовое название задачи в строительном плане (без предобработки).\n",
    "- upper_works\n",
    "    * Информация об иерархии названий объектов и блоков работ, в рамках которых выполнялась эта задача. Если задачи имеют одинаковое значение этого атрибута – это означает, что они выполнялись в рамках одного блока работ над одним объектом\n",
    "(может быть пустым).\n",
    "- generalized_work_class\n",
    "    * Информация об обобщенном классе наименований работ, к\n",
    "    которому относится задача (может быть пустым).\n",
    "- global_work_class\n",
    "    * Информация о самом высоком уровне обобщения названия задачи\n",
    "(может быть пустым).\n"
   ]
  },
  {
   "cell_type": "code",
   "execution_count": 3,
   "metadata": {},
   "outputs": [],
   "source": [
    "import pandas as pd\n",
    "import numpy as np"
   ]
  },
  {
   "cell_type": "markdown",
   "metadata": {},
   "source": [
    "## 1. Get the data and do spell correction"
   ]
  },
  {
   "cell_type": "code",
   "execution_count": 4,
   "metadata": {},
   "outputs": [
    {
     "data": {
      "text/plain": [
       "Index(['work_name', 'generalized_work_class', 'global_work_class',\n",
       "       'upper_works'],\n",
       "      dtype='object')"
      ]
     },
     "execution_count": 4,
     "metadata": {},
     "output_type": "execute_result"
    }
   ],
   "source": [
    "df = pd.read_csv('./lab2_oil_gas_field_construction_data.csv')\n",
    "df.columns"
   ]
  },
  {
   "cell_type": "code",
   "execution_count": 5,
   "metadata": {},
   "outputs": [],
   "source": [
    "# remove outliers \n",
    "train_data = df.loc[df['generalized_work_class'].notna()]\n",
    "test_data = df.loc[df['generalized_work_class'].isna()]\n",
    "\n",
    "cnt = train_data.generalized_work_class.value_counts().to_frame().reset_index()\n",
    "cnt.columns\n",
    "\n",
    "list_of_classes = cnt.loc[cnt['count'] > 500, 'generalized_work_class'].values\n",
    "train_data = train_data[train_data['generalized_work_class'].isin(list_of_classes)]"
   ]
  },
  {
   "cell_type": "code",
   "execution_count": 6,
   "metadata": {},
   "outputs": [
    {
     "data": {
      "text/html": [
       "<div>\n",
       "<style scoped>\n",
       "    .dataframe tbody tr th:only-of-type {\n",
       "        vertical-align: middle;\n",
       "    }\n",
       "\n",
       "    .dataframe tbody tr th {\n",
       "        vertical-align: top;\n",
       "    }\n",
       "\n",
       "    .dataframe thead th {\n",
       "        text-align: right;\n",
       "    }\n",
       "</style>\n",
       "<table border=\"1\" class=\"dataframe\">\n",
       "  <thead>\n",
       "    <tr style=\"text-align: right;\">\n",
       "      <th></th>\n",
       "      <th>work_name</th>\n",
       "      <th>generalized_work_class</th>\n",
       "      <th>global_work_class</th>\n",
       "      <th>upper_works</th>\n",
       "    </tr>\n",
       "  </thead>\n",
       "  <tbody>\n",
       "    <tr>\n",
       "      <th>3</th>\n",
       "      <td>монтад лестниц</td>\n",
       "      <td>Монтаж лестниц</td>\n",
       "      <td>Строительство зданий</td>\n",
       "      <td>NaN</td>\n",
       "    </tr>\n",
       "    <tr>\n",
       "      <th>7</th>\n",
       "      <td>кипиа</td>\n",
       "      <td>Монтаж приборов</td>\n",
       "      <td>Монтаж</td>\n",
       "      <td>NaN</td>\n",
       "    </tr>\n",
       "    <tr>\n",
       "      <th>9</th>\n",
       "      <td>электромонтажные работы 1.4.2</td>\n",
       "      <td>ПНР</td>\n",
       "      <td>ПНР</td>\n",
       "      <td>NaN</td>\n",
       "    </tr>\n",
       "    <tr>\n",
       "      <th>10</th>\n",
       "      <td>погружение свай св3 (108х6х5590)</td>\n",
       "      <td>Погружение свай</td>\n",
       "      <td>Монтаж свай</td>\n",
       "      <td>NaN</td>\n",
       "    </tr>\n",
       "    <tr>\n",
       "      <th>13</th>\n",
       "      <td>монтаж стоек</td>\n",
       "      <td>Монтаж мк</td>\n",
       "      <td>Монтаж мк</td>\n",
       "      <td>('Подготовка свай', 'Монтаж ограждения')</td>\n",
       "    </tr>\n",
       "    <tr>\n",
       "      <th>...</th>\n",
       "      <td>...</td>\n",
       "      <td>...</td>\n",
       "      <td>...</td>\n",
       "      <td>...</td>\n",
       "    </tr>\n",
       "    <tr>\n",
       "      <th>716053</th>\n",
       "      <td>монтаж провода ас120/19</td>\n",
       "      <td>Монтаж кабеля</td>\n",
       "      <td>Монтаж электрики</td>\n",
       "      <td>NaN</td>\n",
       "    </tr>\n",
       "    <tr>\n",
       "      <th>716061</th>\n",
       "      <td>монтаж стоек</td>\n",
       "      <td>Монтаж мк</td>\n",
       "      <td>Монтаж мк</td>\n",
       "      <td>('Подготовка свай', 'Монтаж ограждения')</td>\n",
       "    </tr>\n",
       "    <tr>\n",
       "      <th>716062</th>\n",
       "      <td>монтаж трубопровода азота е5/1</td>\n",
       "      <td>Монтаж трубопровода</td>\n",
       "      <td>Прокладка трубопровода</td>\n",
       "      <td>NaN</td>\n",
       "    </tr>\n",
       "    <tr>\n",
       "      <th>716063</th>\n",
       "      <td>гравийно-песчаная подготовка пдн1 (коэф.уплотн...</td>\n",
       "      <td>Устройство песчаной подушки</td>\n",
       "      <td>Укладка</td>\n",
       "      <td>NaN</td>\n",
       "    </tr>\n",
       "    <tr>\n",
       "      <th>716066</th>\n",
       "      <td>монтаж балок</td>\n",
       "      <td>Монтаж мк</td>\n",
       "      <td>Монтаж мк</td>\n",
       "      <td>NaN</td>\n",
       "    </tr>\n",
       "  </tbody>\n",
       "</table>\n",
       "<p>282583 rows × 4 columns</p>\n",
       "</div>"
      ],
      "text/plain": [
       "                                                work_name  \\\n",
       "3                                          монтад лестниц   \n",
       "7                                                   кипиа   \n",
       "9                           электромонтажные работы 1.4.2   \n",
       "10                       погружение свай св3 (108х6х5590)   \n",
       "13                                           монтаж стоек   \n",
       "...                                                   ...   \n",
       "716053                            монтаж провода ас120/19   \n",
       "716061                                       монтаж стоек   \n",
       "716062                     монтаж трубопровода азота е5/1   \n",
       "716063  гравийно-песчаная подготовка пдн1 (коэф.уплотн...   \n",
       "716066                                       монтаж балок   \n",
       "\n",
       "             generalized_work_class       global_work_class  \\\n",
       "3                    Монтаж лестниц    Строительство зданий   \n",
       "7                   Монтаж приборов                  Монтаж   \n",
       "9                               ПНР                     ПНР   \n",
       "10                  Погружение свай             Монтаж свай   \n",
       "13                        Монтаж мк               Монтаж мк   \n",
       "...                             ...                     ...   \n",
       "716053                Монтаж кабеля        Монтаж электрики   \n",
       "716061                    Монтаж мк               Монтаж мк   \n",
       "716062          Монтаж трубопровода  Прокладка трубопровода   \n",
       "716063  Устройство песчаной подушки                 Укладка   \n",
       "716066                    Монтаж мк               Монтаж мк   \n",
       "\n",
       "                                     upper_works  \n",
       "3                                            NaN  \n",
       "7                                            NaN  \n",
       "9                                            NaN  \n",
       "10                                           NaN  \n",
       "13      ('Подготовка свай', 'Монтаж ограждения')  \n",
       "...                                          ...  \n",
       "716053                                       NaN  \n",
       "716061  ('Подготовка свай', 'Монтаж ограждения')  \n",
       "716062                                       NaN  \n",
       "716063                                       NaN  \n",
       "716066                                       NaN  \n",
       "\n",
       "[282583 rows x 4 columns]"
      ]
     },
     "execution_count": 6,
     "metadata": {},
     "output_type": "execute_result"
    }
   ],
   "source": [
    "train_data"
   ]
  },
  {
   "cell_type": "markdown",
   "metadata": {},
   "source": [
    "## 2. Correct spell mistakes \n",
    "- inify the form how the work name is written to use it for semantical class-tion later"
   ]
  },
  {
   "cell_type": "code",
   "execution_count": 8,
   "metadata": {},
   "outputs": [
    {
     "name": "stderr",
     "output_type": "stream",
     "text": [
      "/var/folders/tt/rhnv8s9j45dfkl45r1y57vw80000gn/T/ipykernel_63076/938801483.py:23: SettingWithCopyWarning: \n",
      "A value is trying to be set on a copy of a slice from a DataFrame.\n",
      "Try using .loc[row_indexer,col_indexer] = value instead\n",
      "\n",
      "See the caveats in the documentation: https://pandas.pydata.org/pandas-docs/stable/user_guide/indexing.html#returning-a-view-versus-a-copy\n",
      "  test_data['work_name_corr'] = test_data['work_name'].str.split()\n"
     ]
    }
   ],
   "source": [
    "from spellchecker import SpellChecker\n",
    "\n",
    "russian = SpellChecker(language='ru', distance=1)\n",
    "\n",
    "def correct_the_spelling(s):\n",
    "    '''Corrects the spell mistakes in string'''\n",
    "    new_string = ''\n",
    "    for i in s:\n",
    "        if i not in ['свай', 'балок', 'лестниц', 'т1', 'газа', 'бурение', 'пнр', 'мк']:\n",
    "            i_corr = russian.correction(i)\n",
    "            if i_corr != None:\n",
    "                new_string = new_string + \" \" + i_corr\n",
    "            else:\n",
    "                new_string = new_string + \" \" + i\n",
    "        else:\n",
    "            new_string = new_string + \" \" + i\n",
    "    return new_string\n",
    "\n",
    "\n",
    "train_data['work_name_corr'] = train_data['work_name'].str.split()\n",
    "train_data['work_name_corr'] = train_data['work_name_corr'].apply(correct_the_spelling)\n",
    "\n",
    "test_data['work_name_corr'] = test_data['work_name'].str.split()\n",
    "test_data['work_name_corr'] = test_data['work_name_corr'].apply(correct_the_spelling)"
   ]
  },
  {
   "cell_type": "markdown",
   "metadata": {},
   "source": [
    "## 3. If a test data work_name is in previously accured mapping\n",
    "\n",
    "- Automatically classify it in a class"
   ]
  },
  {
   "cell_type": "code",
   "execution_count": null,
   "metadata": {},
   "outputs": [],
   "source": [
    "from pprint import pprint\n",
    "\n",
    "target_text_dict = {}\n",
    "unique_targets = train_data['generalized_work_class'].unique()\n",
    "\n",
    "for target in unique_targets:\n",
    "    target_texts = train_data[train_data['generalized_work_class'] == target]['work_name_corrected']\n",
    "    unique_texts = target_texts.unique().tolist()\n",
    "    target_text_dict[target] = unique_texts\n",
    "\n",
    "pprint(target_text_dict.values())"
   ]
  },
  {
   "cell_type": "code",
   "execution_count": null,
   "metadata": {},
   "outputs": [],
   "source": [
    "def map_labels(text):\n",
    "    '''Maps work_name in test into classes accured in train data'''\n",
    "    for label, unique_texts in target_text_dict.items():\n",
    "        if text in unique_texts:\n",
    "            return label\n",
    "    return None"
   ]
  },
  {
   "cell_type": "code",
   "execution_count": null,
   "metadata": {},
   "outputs": [],
   "source": [
    "test_data['predicted_labels'] = test_data['work_name_corr'].map(map_labels)\n",
    "\n",
    "remain = test_data.loc[test_data['predicted_labels'].isna()]\n",
    "print(f'Still unclassified in test data: {len(remain)} observations')"
   ]
  },
  {
   "cell_type": "code",
   "execution_count": null,
   "metadata": {},
   "outputs": [],
   "source": [
    "train_data.to_csv('./Checkpoins/train_spell_correcred.csv')\n",
    "test_data.to_csv('./Checkpoins/test_spell_correcred.csv')"
   ]
  },
  {
   "cell_type": "markdown",
   "metadata": {},
   "source": [
    "## 4. The rest of unclaasified obs, we will claffify with ML model\n",
    "\n",
    "```01_BERT_class.ipynb```"
   ]
  },
  {
   "cell_type": "markdown",
   "metadata": {},
   "source": []
  }
 ],
 "metadata": {
  "kernelspec": {
   "display_name": "OneDrive_1_2023-10-22-Drg7MSLh",
   "language": "python",
   "name": "python3"
  },
  "language_info": {
   "codemirror_mode": {
    "name": "ipython",
    "version": 3
   },
   "file_extension": ".py",
   "mimetype": "text/x-python",
   "name": "python",
   "nbconvert_exporter": "python",
   "pygments_lexer": "ipython3",
   "version": "3.9.13"
  }
 },
 "nbformat": 4,
 "nbformat_minor": 2
}
